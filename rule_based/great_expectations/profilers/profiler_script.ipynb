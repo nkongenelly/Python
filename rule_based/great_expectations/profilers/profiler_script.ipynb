{
 "cells": [
  {
   "cell_type": "markdown",
   "id": "eaa28f02",
   "metadata": {},
   "source": [
    "# Configure the Profiler"
   ]
  },
  {
   "cell_type": "code",
   "execution_count": 58,
   "id": "3c9b86fc",
   "metadata": {},
   "outputs": [],
   "source": [
    "import great_expectations as ge\n",
    "from ruamel.yaml import YAML\n",
    "from great_expectations.rule_based_profiler.rule_based_profiler import RuleBasedProfiler\n",
    "from great_expectations.core.batch import BatchRequest\n",
    "\n",
    "yaml = YAML()\n",
    "\n",
    "# context = gx.get_context()\n",
    "data_context = ge.data_context.DataContext()"
   ]
  },
  {
   "cell_type": "code",
   "execution_count": 43,
   "id": "f1909983",
   "metadata": {},
   "outputs": [],
   "source": [
    "profiler_config = \"\"\"\n",
    "    name: My Profiler\n",
    "    config_version: 1.0\n",
    "\n",
    "    variables:\n",
    "      false_positive_rate: 0.01\n",
    "      mostly: 1.0\n",
    "\n",
    "    rules:\n",
    "      row_count_rule:\n",
    "        domain_builder:\n",
    "            class_name: TableDomainBuilder\n",
    "        parameter_builders:\n",
    "          - name: row_count_range\n",
    "            class_name: NumericMetricRangeMultiBatchParameterBuilder\n",
    "            metric_name: table.row_count\n",
    "            metric_domain_kwargs: $domain.domain_kwargs\n",
    "            false_positive_rate: $variables.false_positive_rate\n",
    "            truncate_values:\n",
    "              lower_bound: 0\n",
    "            round_decimals: 0\n",
    "        expectation_configuration_builders:\n",
    "          - expectation_type: expect_table_row_count_to_be_between\n",
    "            class_name: DefaultExpectationConfigurationBuilder\n",
    "            module_name: great_expectations.rule_based_profiler.expectation_configuration_builder\n",
    "            min_value: $parameter.row_count_range.value[0]\n",
    "            max_value: $parameter.row_count_range.value[1]\n",
    "            mostly: $variables.mostly\n",
    "            meta:\n",
    "              profiler_details: $parameter.row_count_range.details\n",
    "\"\"\""
   ]
  },
  {
   "cell_type": "markdown",
   "id": "0dd78a34",
   "metadata": {},
   "source": [
    "# Run the Profiler"
   ]
  },
  {
   "cell_type": "markdown",
   "id": "4a49845f",
   "metadata": {},
   "source": [
    "First we'll do some basic set-up - set up a Data Context and parse our YAML"
   ]
  },
  {
   "cell_type": "code",
   "execution_count": 44,
   "id": "0f59d3a0",
   "metadata": {},
   "outputs": [],
   "source": [
    "\n",
    "\n",
    "full_profiler_config_dict= yaml.load(profiler_config)"
   ]
  },
  {
   "cell_type": "markdown",
   "id": "0cc4feb7",
   "metadata": {},
   "source": [
    "Next, we'll instantiate our Profiler, passing in our config and our Data Context"
   ]
  },
  {
   "cell_type": "code",
   "execution_count": 45,
   "id": "ca1bb927",
   "metadata": {},
   "outputs": [],
   "source": [
    "rule_based_profiler = RuleBasedProfiler(\n",
    "    name=full_profiler_config_dict[\"name\"],\n",
    "    config_version=full_profiler_config_dict[\"config_version\"],\n",
    "    rules=full_profiler_config_dict[\"rules\"],\n",
    "    variables=full_profiler_config_dict[\"variables\"],\n",
    "    data_context=data_context,\n",
    ")"
   ]
  },
  {
   "cell_type": "markdown",
   "id": "191ddebd",
   "metadata": {},
   "source": [
    "Finally, we'll run the profiler and save the result to a variable."
   ]
  },
  {
   "cell_type": "code",
   "execution_count": 59,
   "id": "fa9eb6ef",
   "metadata": {},
   "outputs": [],
   "source": [
    "batch_request = {\n",
    "    \"datasource_name\": \"rule_based_datasource\",\n",
    "    \"data_connector_name\": \"default_inferred_data_connector_name\",\n",
    "    \"data_asset_name\": \"my_reports\",\n",
    "    \"data_connector_query\": {\n",
    "        \"index\": \"-6:-1\",\n",
    "    },\n",
    "}\n",
    "\n"
   ]
  },
  {
   "cell_type": "code",
   "execution_count": 57,
   "id": "724fcf50",
   "metadata": {},
   "outputs": [
    {
     "name": "stdout",
     "output_type": "stream",
     "text": [
      "\n"
     ]
    },
    {
     "data": {
      "application/vnd.jupyter.widget-view+json": {
       "model_id": "5410bd4c287e4cd4805dcd34f895559b",
       "version_major": 2,
       "version_minor": 0
      },
      "text/plain": [
       "Generating Expectations:   0%|          | 0/1 [00:00<?, ?it/s]"
      ]
     },
     "metadata": {},
     "output_type": "display_data"
    },
    {
     "data": {
      "application/vnd.jupyter.widget-view+json": {
       "model_id": "",
       "version_major": 2,
       "version_minor": 0
      },
      "text/plain": [
       "Profiling Dataset:         0%|          | 0/1 [00:00<?, ?it/s]"
      ]
     },
     "metadata": {},
     "output_type": "display_data"
    },
    {
     "data": {
      "application/vnd.jupyter.widget-view+json": {
       "model_id": "61d00612c43c4b61b683989ed2eda4ad",
       "version_major": 2,
       "version_minor": 0
      },
      "text/plain": [
       "Calculating Metrics:   0%|          | 0/1 [00:00<?, ?it/s]"
      ]
     },
     "metadata": {},
     "output_type": "display_data"
    }
   ],
   "source": [
    "result = rule_based_profiler.run(batch_request=batch_request)"
   ]
  },
  {
   "cell_type": "code",
   "execution_count": 60,
   "id": "c2d4ef2a",
   "metadata": {},
   "outputs": [
    {
     "ename": "DataContextError",
     "evalue": "expectation_suite rule_based_expectations not found",
     "output_type": "error",
     "traceback": [
      "\u001b[1;31m---------------------------------------------------------------------------\u001b[0m",
      "\u001b[1;31mDataContextError\u001b[0m                          Traceback (most recent call last)",
      "Input \u001b[1;32mIn [60]\u001b[0m, in \u001b[0;36m<cell line: 2>\u001b[1;34m()\u001b[0m\n\u001b[0;32m      1\u001b[0m expectation_suite_name \u001b[38;5;241m=\u001b[39m \u001b[38;5;124m\"\u001b[39m\u001b[38;5;124mrule_based_expectations\u001b[39m\u001b[38;5;124m\"\u001b[39m\n\u001b[1;32m----> 2\u001b[0m validator \u001b[38;5;241m=\u001b[39m \u001b[43mcontext\u001b[49m\u001b[38;5;241;43m.\u001b[39;49m\u001b[43mget_validator\u001b[49m\u001b[43m(\u001b[49m\n\u001b[0;32m      3\u001b[0m \u001b[43m    \u001b[49m\u001b[43mbatch_request\u001b[49m\u001b[38;5;241;43m=\u001b[39;49m\u001b[43mBatchRequest\u001b[49m\u001b[43m(\u001b[49m\u001b[38;5;241;43m*\u001b[39;49m\u001b[38;5;241;43m*\u001b[39;49m\u001b[43mbatch_request\u001b[49m\u001b[43m)\u001b[49m\u001b[43m,\u001b[49m\n\u001b[0;32m      4\u001b[0m \u001b[43m    \u001b[49m\u001b[43mexpectation_suite_name\u001b[49m\u001b[38;5;241;43m=\u001b[39;49m\u001b[43mexpectation_suite_name\u001b[49m\u001b[43m,\u001b[49m\n\u001b[0;32m      5\u001b[0m \u001b[43m)\u001b[49m\n\u001b[0;32m      6\u001b[0m validator\u001b[38;5;241m.\u001b[39mhead(n_rows\u001b[38;5;241m=\u001b[39m\u001b[38;5;241m5\u001b[39m, fetch_all\u001b[38;5;241m=\u001b[39m\u001b[38;5;28;01mFalse\u001b[39;00m)\n",
      "File \u001b[1;32m~\\anaconda3\\lib\\site-packages\\great_expectations\\data_context\\data_context\\abstract_data_context.py:2372\u001b[0m, in \u001b[0;36mAbstractDataContext.get_validator\u001b[1;34m(***failed resolving arguments***)\u001b[0m\n\u001b[0;32m   2367\u001b[0m     expectation_suite \u001b[38;5;241m=\u001b[39m \u001b[38;5;28mself\u001b[39m\u001b[38;5;241m.\u001b[39mget_expectation_suite(\n\u001b[0;32m   2368\u001b[0m         include_rendered_content\u001b[38;5;241m=\u001b[39minclude_rendered_content,\n\u001b[0;32m   2369\u001b[0m         ge_cloud_id\u001b[38;5;241m=\u001b[39mexpectation_suite_id,\n\u001b[0;32m   2370\u001b[0m     )\n\u001b[0;32m   2371\u001b[0m \u001b[38;5;28;01mif\u001b[39;00m expectation_suite_name \u001b[38;5;129;01mis\u001b[39;00m \u001b[38;5;129;01mnot\u001b[39;00m \u001b[38;5;28;01mNone\u001b[39;00m:\n\u001b[1;32m-> 2372\u001b[0m     expectation_suite \u001b[38;5;241m=\u001b[39m \u001b[38;5;28;43mself\u001b[39;49m\u001b[38;5;241;43m.\u001b[39;49m\u001b[43mget_expectation_suite\u001b[49m\u001b[43m(\u001b[49m\n\u001b[0;32m   2373\u001b[0m \u001b[43m        \u001b[49m\u001b[43mexpectation_suite_name\u001b[49m\u001b[43m,\u001b[49m\n\u001b[0;32m   2374\u001b[0m \u001b[43m        \u001b[49m\u001b[43minclude_rendered_content\u001b[49m\u001b[38;5;241;43m=\u001b[39;49m\u001b[43minclude_rendered_content\u001b[49m\u001b[43m,\u001b[49m\n\u001b[0;32m   2375\u001b[0m \u001b[43m    \u001b[49m\u001b[43m)\u001b[49m\n\u001b[0;32m   2376\u001b[0m \u001b[38;5;28;01mif\u001b[39;00m create_expectation_suite_with_name \u001b[38;5;129;01mis\u001b[39;00m \u001b[38;5;129;01mnot\u001b[39;00m \u001b[38;5;28;01mNone\u001b[39;00m:\n\u001b[0;32m   2377\u001b[0m     expectation_suite \u001b[38;5;241m=\u001b[39m \u001b[38;5;28mself\u001b[39m\u001b[38;5;241m.\u001b[39madd_expectation_suite(\n\u001b[0;32m   2378\u001b[0m         expectation_suite_name\u001b[38;5;241m=\u001b[39mcreate_expectation_suite_with_name,\n\u001b[0;32m   2379\u001b[0m     )\n",
      "File \u001b[1;32m~\\anaconda3\\lib\\site-packages\\great_expectations\\data_context\\data_context\\abstract_data_context.py:3065\u001b[0m, in \u001b[0;36mAbstractDataContext.get_expectation_suite\u001b[1;34m(self, expectation_suite_name, include_rendered_content, ge_cloud_id)\u001b[0m\n\u001b[0;32m   3062\u001b[0m     \u001b[38;5;28;01mreturn\u001b[39;00m expectation_suite\n\u001b[0;32m   3064\u001b[0m \u001b[38;5;28;01melse\u001b[39;00m:\n\u001b[1;32m-> 3065\u001b[0m     \u001b[38;5;28;01mraise\u001b[39;00m gx_exceptions\u001b[38;5;241m.\u001b[39mDataContextError(\n\u001b[0;32m   3066\u001b[0m         \u001b[38;5;124mf\u001b[39m\u001b[38;5;124m\"\u001b[39m\u001b[38;5;124mexpectation_suite \u001b[39m\u001b[38;5;132;01m{\u001b[39;00mexpectation_suite_name\u001b[38;5;132;01m}\u001b[39;00m\u001b[38;5;124m not found\u001b[39m\u001b[38;5;124m\"\u001b[39m\n\u001b[0;32m   3067\u001b[0m     )\n",
      "\u001b[1;31mDataContextError\u001b[0m: expectation_suite rule_based_expectations not found"
     ]
    }
   ],
   "source": [
    "expectation_suite_name = \"rule_based_expectations\"\n",
    "validator = context.get_validator(\n",
    "    batch_request=BatchRequest(**batch_request),\n",
    "    expectation_suite_name=expectation_suite_name,\n",
    ")\n",
    "validator.head(n_rows=5, fetch_all=False)\n",
    "\n",
    "# validator.expectation_suite = result.get_expectation_suite(\n",
    "#     expectation_suite_name=expectation_suite_name\n",
    "# )"
   ]
  },
  {
   "cell_type": "code",
   "execution_count": null,
   "id": "acf905d1",
   "metadata": {},
   "outputs": [],
   "source": []
  }
 ],
 "metadata": {
  "kernelspec": {
   "display_name": "Python 3",
   "language": "python",
   "name": "python3"
  },
  "language_info": {
   "codemirror_mode": {
    "name": "ipython",
    "version": 3
   },
   "file_extension": ".py",
   "mimetype": "text/x-python",
   "name": "python",
   "nbconvert_exporter": "python",
   "pygments_lexer": "ipython3",
   "version": "3.10.7"
  },
  "vscode": {
   "interpreter": {
    "hash": "369f2c481f4da34e4445cda3fffd2e751bd1c4d706f27375911949ba6bb62e1c"
   }
  }
 },
 "nbformat": 4,
 "nbformat_minor": 5
}
